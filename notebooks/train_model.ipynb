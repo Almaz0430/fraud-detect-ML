{
 "cells": [
  {
   "cell_type": "markdown",
   "metadata": {},
   "source": [
    "# Credit Card Fraud Detection Model Training\n",
    "\n",
    "Этот ноутбук обучает модель машинного обучения для детекции мошенничества с кредитными картами.\n",
    "\n",
    "## Шаги:\n",
    "1. Загрузка и исследование данных\n",
    "2. Предобработка данных\n",
    "3. Разделение на train/test\n",
    "4. Обучение модели LightGBM\n",
    "5. Оценка качества модели\n",
    "6. Сохранение модели и скейлера"
   ]
  },
  {
   "cell_type": "code",
   "execution_count": null,
   "metadata": {},
   "outputs": [],
   "source": [
    "import pandas as pd\n",
    "import numpy as np\n",
    "import matplotlib.pyplot as plt\n",
    "import seaborn as sns\n",
    "from sklearn.model_selection import train_test_split\n",
    "from sklearn.preprocessing import StandardScaler\n",
    "from sklearn.metrics import classification_report, confusion_matrix, roc_auc_score, roc_curve\n",
    "from sklearn.linear_model import LogisticRegression\n",
    "import lightgbm as lgb\n",
    "import joblib\n",
    "import warnings\n",
    "warnings.filterwarnings('ignore')\n",
    "\n",
    "plt.style.use('seaborn-v0_8')\n",
    "sns.set_palette(\"husl\")"
   ]
  },
  {
   "cell_type": "markdown",
   "metadata": {},
   "source": [
    "## 1. Загрузка данных\n",
    "\n",
    "Убедитесь, что файл `creditcard.csv` находится в папке `data/`.\n",
    "Если файла нет, скачайте его с Kaggle:\n",
    "```bash\n",
    "kaggle datasets download -d mlg-ulb/creditcardfraud\n",
    "```"
   ]
  },
  {
   "cell_type": "code",
   "execution_count": null,
   "metadata": {},
   "outputs": [],
   "source": [
    "# Загрузка данных\n",
    "try:\n",
    "    df = pd.read_csv('../data/creditcard.csv')\n",
    "    print(f\"Данные загружены успешно. Размер: {df.shape}\")\n",
    "except FileNotFoundError:\n",
    "    print(\"Файл creditcard.csv не найден в папке data/\")\n",
    "    print(\"Скачайте датасет с Kaggle: kaggle datasets download -d mlg-ulb/creditcardfraud\")\n",
    "    raise"
   ]
  },
  {
   "cell_type": "code",
   "execution_count": null,
   "metadata": {},
   "outputs": [],
   "source": [
    "# Исследование данных\n",
    "print(\"Первые 5 строк:\")\n",
    "print(df.head())\n",
    "print(\"\\nИнформация о данных:\")\n",
    "print(df.info())\n",
    "print(\"\\nСтатистика:\")\n",
    "print(df.describe())"
   ]
  },
  {
   "cell_type": "code",
   "execution_count": null,
   "metadata": {},
   "outputs": [],
   "source": [
    "# Анализ целевой переменной\n",
    "print(\"Распределение классов:\")\n",
    "print(df['Class'].value_counts())\n",
    "print(f\"\\nДоля мошеннических транзакций: {df['Class'].mean():.4f}\")\n",
    "\n",
    "# Визуализация\n",
    "plt.figure(figsize=(12, 4))\n",
    "\n",
    "plt.subplot(1, 2, 1)\n",
    "df['Class'].value_counts().plot(kind='bar')\n",
    "plt.title('Распределение классов')\n",
    "plt.xlabel('Класс (0 - норма, 1 - мошенничество)')\n",
    "plt.ylabel('Количество')\n",
    "\n",
    "plt.subplot(1, 2, 2)\n",
    "plt.hist(df[df['Class'] == 0]['Amount'], bins=50, alpha=0.7, label='Норма')\n",
    "plt.hist(df[df['Class'] == 1]['Amount'], bins=50, alpha=0.7, label='Мошенничество')\n",
    "plt.xlabel('Сумма транзакции')\n",
    "plt.ylabel('Частота')\n",
    "plt.legend()\n",
    "plt.title('Распределение сумм транзакций')\n",
    "\n",
    "plt.tight_layout()\n",
    "plt.show()"
   ]
  },
  {
   "cell_type": "markdown",
   "metadata": {},
   "source": [
    "## 2. Предобработка данных"
   ]
  },
  {
   "cell_type": "code",
   "execution_count": null,
   "metadata": {},
   "outputs": [],
   "source": [
    "# Проверка на пропущенные значения\n",
    "print(\"Пропущенные значения:\")\n",
    "print(df.isnull().sum().sum())\n",
    "\n",
    "# Подготовка признаков и целевой переменной\n",
    "X = df.drop(['Class'], axis=1)\n",
    "y = df['Class']\n",
    "\n",
    "print(f\"\\nРазмер признаков: {X.shape}\")\n",
    "print(f\"Размер целевой переменной: {y.shape}\")"
   ]
  },
  {
   "cell_type": "code",
   "execution_count": null,
   "metadata": {},
   "outputs": [],
   "source": [
    "# Разделение на train/test\n",
    "X_train, X_test, y_train, y_test = train_test_split(\n",
    "    X, y, test_size=0.2, random_state=42, stratify=y\n",
    ")\n",
    "\n",
    "print(f\"Размер обучающей выборки: {X_train.shape}\")\n",
    "print(f\"Размер тестовой выборки: {X_test.shape}\")\n",
    "print(f\"Доля мошенничества в train: {y_train.mean():.4f}\")\n",
    "print(f\"Доля мошенничества в test: {y_test.mean():.4f}\")"
   ]
  },
  {
   "cell_type": "code",
   "execution_count": null,
   "metadata": {},
   "outputs": [],
   "source": [
    "# Нормализация признаков\n",
    "scaler = StandardScaler()\n",
    "X_train_scaled = scaler.fit_transform(X_train)\n",
    "X_test_scaled = scaler.transform(X_test)\n",
    "\n",
    "print(\"Нормализация завершена\")\n",
    "print(f\"Среднее значение после нормализации: {X_train_scaled.mean():.6f}\")\n",
    "print(f\"Стандартное отклонение после нормализации: {X_train_scaled.std():.6f}\")"
   ]
  },
  {
   "cell_type": "markdown",
   "metadata": {},
   "source": [
    "## 3. Обучение моделей"
   ]
  },
  {
   "cell_type": "code",
   "execution_count": null,
   "metadata": {},
   "outputs": [],
   "source": [
    "# Обучение LightGBM\n",
    "print(\"Обучение LightGBM...\")\n",
    "\n",
    "lgb_model = lgb.LGBMClassifier(\n",
    "    objective='binary',\n",
    "    metric='auc',\n",
    "    boosting_type='gbdt',\n",
    "    num_leaves=31,\n",
    "    learning_rate=0.05,\n",
    "    feature_fraction=0.9,\n",
    "    bagging_fraction=0.8,\n",
    "    bagging_freq=5,\n",
    "    verbose=0,\n",
    "    random_state=42,\n",
    "    class_weight='balanced'\n",
    ")\n",
    "\n",
    "lgb_model.fit(X_train_scaled, y_train)\n",
    "print(\"LightGBM обучена\")"
   ]
  },
  {
   "cell_type": "code",
   "execution_count": null,
   "metadata": {},
   "outputs": [],
   "source": [
    "# Обучение Logistic Regression для сравнения\n",
    "print(\"Обучение Logistic Regression...\")\n",
    "\n",
    "lr_model = LogisticRegression(\n",
    "    random_state=42,\n",
    "    class_weight='balanced',\n",
    "    max_iter=1000\n",
    ")\n",
    "\n",
    "lr_model.fit(X_train_scaled, y_train)\n",
    "print(\"Logistic Regression обучена\")"
   ]
  },
  {
   "cell_type": "markdown",
   "metadata": {},
   "source": [
    "## 4. Оценка моделей"
   ]
  },
  {
   "cell_type": "code",
   "execution_count": null,
   "metadata": {},
   "outputs": [],
   "source": [
    "# Предсказания\n",
    "lgb_pred = lgb_model.predict(X_test_scaled)\n",
    "lgb_pred_proba = lgb_model.predict_proba(X_test_scaled)[:, 1]\n",
    "\n",
    "lr_pred = lr_model.predict(X_test_scaled)\n",
    "lr_pred_proba = lr_model.predict_proba(X_test_scaled)[:, 1]\n",
    "\n",
    "# Оценка качества\n",
    "print(\"=== LightGBM ===\")\n",
    "print(f\"ROC-AUC: {roc_auc_score(y_test, lgb_pred_proba):.4f}\")\n",
    "print(\"\\nClassification Report:\")\n",
    "print(classification_report(y_test, lgb_pred))\n",
    "\n",
    "print(\"\\n=== Logistic Regression ===\")\n",
    "print(f\"ROC-AUC: {roc_auc_score(y_test, lr_pred_proba):.4f}\")\n",
    "print(\"\\nClassification Report:\")\n",
    "print(classification_report(y_test, lr_pred))"
   ]
  },
  {
   "cell_type": "code",
   "execution_count": null,
   "metadata": {},
   "outputs": [],
   "source": [
    "# Визуализация результатов\n",
    "plt.figure(figsize=(15, 5))\n",
    "\n",
    "# ROC кривые\n",
    "plt.subplot(1, 3, 1)\n",
    "fpr_lgb, tpr_lgb, _ = roc_curve(y_test, lgb_pred_proba)\n",
    "fpr_lr, tpr_lr, _ = roc_curve(y_test, lr_pred_proba)\n",
    "\n",
    "plt.plot(fpr_lgb, tpr_lgb, label=f'LightGBM (AUC = {roc_auc_score(y_test, lgb_pred_proba):.3f})')\n",
    "plt.plot(fpr_lr, tpr_lr, label=f'LogReg (AUC = {roc_auc_score(y_test, lr_pred_proba):.3f})')\n",
    "plt.plot([0, 1], [0, 1], 'k--', label='Random')\n",
    "plt.xlabel('False Positive Rate')\n",
    "plt.ylabel('True Positive Rate')\n",
    "plt.title('ROC Curves')\n",
    "plt.legend()\n",
    "\n",
    "# Confusion Matrix для LightGBM\n",
    "plt.subplot(1, 3, 2)\n",
    "cm_lgb = confusion_matrix(y_test, lgb_pred)\n",
    "sns.heatmap(cm_lgb, annot=True, fmt='d', cmap='Blues')\n",
    "plt.title('Confusion Matrix (LightGBM)')\n",
    "plt.ylabel('True Label')\n",
    "plt.xlabel('Predicted Label')\n",
    "\n",
    "# Feature importance для LightGBM\n",
    "plt.subplot(1, 3, 3)\n",
    "feature_importance = lgb_model.feature_importances_\n",
    "feature_names = X.columns\n",
    "indices = np.argsort(feature_importance)[::-1][:10]\n",
    "\n",
    "plt.bar(range(10), feature_importance[indices])\n",
    "plt.xticks(range(10), [feature_names[i] for i in indices], rotation=45)\n",
    "plt.title('Top 10 Feature Importance (LightGBM)')\n",
    "plt.ylabel('Importance')\n",
    "\n",
    "plt.tight_layout()\n",
    "plt.show()"
   ]
  },
  {
   "cell_type": "markdown",
   "metadata": {},
   "source": [
    "## 5. Выбор лучшей модели и сохранение"
   ]
  },
  {
   "cell_type": "code",
   "execution_count": null,
   "metadata": {},
   "outputs": [],
   "source": [
    "# Сравнение моделей по ROC-AUC\n",
    "lgb_auc = roc_auc_score(y_test, lgb_pred_proba)\n",
    "lr_auc = roc_auc_score(y_test, lr_pred_proba)\n",
    "\n",
    "print(f\"LightGBM ROC-AUC: {lgb_auc:.4f}\")\n",
    "print(f\"Logistic Regression ROC-AUC: {lr_auc:.4f}\")\n",
    "\n",
    "# Выбираем лучшую модель\n",
    "if lgb_auc >= lr_auc:\n",
    "    best_model = lgb_model\n",
    "    best_model_name = \"LightGBM\"\n",
    "    best_auc = lgb_auc\n",
    "else:\n",
    "    best_model = lr_model\n",
    "    best_model_name = \"Logistic Regression\"\n",
    "    best_auc = lr_auc\n",
    "\n",
    "print(f\"\\nЛучшая модель: {best_model_name} с ROC-AUC = {best_auc:.4f}\")"
   ]
  },
  {
   "cell_type": "code",
   "execution_count": null,
   "metadata": {},
   "outputs": [],
   "source": [
    "# Сохранение модели и скейлера\n",
    "import os\n",
    "\n",
    "model_dir = '../model'\n",
    "os.makedirs(model_dir, exist_ok=True)\n",
    "\n",
    "# Сохраняем модель\n",
    "joblib.dump(best_model, os.path.join(model_dir, 'model.pkl'))\n",
    "print(f\"Модель {best_model_name} сохранена в {model_dir}/model.pkl\")\n",
    "\n",
    "# Сохраняем скейлер\n",
    "joblib.dump(scaler, os.path.join(model_dir, 'scaler.pkl'))\n",
    "print(f\"Скейлер сохранен в {model_dir}/scaler.pkl\")\n",
    "\n",
    "# Сохраняем метрики\n",
    "metrics = {\n",
    "    'model_name': best_model_name,\n",
    "    'roc_auc': best_auc,\n",
    "    'feature_names': list(X.columns)\n",
    "}\n",
    "\n",
    "joblib.dump(metrics, os.path.join(model_dir, 'metrics.pkl'))\n",
    "print(f\"Метрики сохранены в {model_dir}/metrics.pkl\")"
   ]
  },
  {
   "cell_type": "markdown",
   "metadata": {},
   "source": [
    "## 6. Тестирование сохраненной модели"
   ]
  },
  {
   "cell_type": "code",
   "execution_count": null,
   "metadata": {},
   "outputs": [],
   "source": [
    "# Загрузка сохраненной модели для проверки\n",
    "loaded_model = joblib.load('../model/model.pkl')\n",
    "loaded_scaler = joblib.load('../model/scaler.pkl')\n",
    "loaded_metrics = joblib.load('../model/metrics.pkl')\n",
    "\n",
    "print(\"Модель успешно загружена\")\n",
    "print(f\"Модель: {loaded_metrics['model_name']}\")\n",
    "print(f\"ROC-AUC: {loaded_metrics['roc_auc']:.4f}\")\n",
    "\n",
    "# Тестируем на одной транзакции\n",
    "sample_transaction = X_test.iloc[0:1]\n",
    "sample_scaled = loaded_scaler.transform(sample_transaction)\n",
    "prediction = loaded_model.predict_proba(sample_scaled)[0, 1]\n",
    "\n",
    "print(f\"\\nТест на примере транзакции:\")\n",
    "print(f\"Вероятность мошенничества: {prediction:.4f}\")\n",
    "print(f\"Классификация: {'Мошенничество' if prediction > 0.5 else 'Норма'}\")\n",
    "print(f\"Реальный класс: {'Мошенничество' if y_test.iloc[0] == 1 else 'Норма'}\")"
   ]
  },
  {
   "cell_type": "markdown",
   "metadata": {},
   "source": [
    "## Заключение\n",
    "\n",
    "Модель обучена и сохранена. Теперь можно использовать её в API для предсказания мошенничества в реальном времени.\n",
    "\n",
    "Файлы сохранены:\n",
    "- `model/model.pkl` - обученная модель\n",
    "- `model/scaler.pkl` - скейлер для нормализации\n",
    "- `model/metrics.pkl` - метрики модели"
   ]
  }
 ],
 "metadata": {
  "kernelspec": {
   "display_name": "Python 3",
   "language": "python",
   "name": "python3"
  },
  "language_info": {
   "codemirror_mode": {
    "name": "ipython",
    "version": 3
   },
   "file_extension": ".py",
   "mimetype": "text/x-python",
   "name": "python",
   "nbconvert_exporter": "python",
   "pygments_lexer": "ipython3",
   "version": "3.8.5"
  }
 },
 "nbformat": 4,
 "nbformat_minor": 4
}