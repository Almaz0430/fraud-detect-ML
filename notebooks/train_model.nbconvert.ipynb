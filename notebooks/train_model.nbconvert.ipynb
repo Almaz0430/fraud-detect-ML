{
 "cells": [
  {
   "cell_type": "markdown",
   "metadata": {},
   "source": [
    "# Credit Card Fraud Detection Model Training\n",
    "\n",
    "Этот ноутбук обучает модель машинного обучения для детекции мошенничества с кредитными картами.\n",
    "\n",
    "## Шаги:\n",
    "1. Загрузка и исследование данных\n",
    "2. Предобработка данных\n",
    "3. Разделение на train/test\n",
    "4. Обучение модели LightGBM\n",
    "5. Оценка качества модели\n",
    "6. Сохранение модели и скейлера"
   ]
  },
  {
   "cell_type": "code",
   "execution_count": 1,
   "metadata": {
    "execution": {
     "iopub.execute_input": "2025-10-14T11:05:43.681393Z",
     "iopub.status.busy": "2025-10-14T11:05:43.681236Z",
     "iopub.status.idle": "2025-10-14T11:05:53.016830Z",
     "shell.execute_reply": "2025-10-14T11:05:53.016347Z"
    }
   },
   "outputs": [],
   "source": [
    "import pandas as pd\n",
    "import numpy as np\n",
    "import matplotlib.pyplot as plt\n",
    "import seaborn as sns\n",
    "from sklearn.model_selection import train_test_split\n",
    "from sklearn.preprocessing import StandardScaler\n",
    "from sklearn.metrics import classification_report, confusion_matrix, roc_auc_score, roc_curve\n",
    "from sklearn.linear_model import LogisticRegression\n",
    "import lightgbm as lgb\n",
    "import joblib\n",
    "import warnings\n",
    "warnings.filterwarnings('ignore')\n",
    "\n",
    "plt.style.use('seaborn-v0_8')\n",
    "sns.set_palette(\"husl\")"
   ]
  },
  {
   "cell_type": "markdown",
   "metadata": {},
   "source": [
    "## 1. Загрузка данных\n",
    "\n",
    "Убедитесь, что файл `creditcard.csv` находится в папке `data/`.\n",
    "Если файла нет, скачайте его с Kaggle:\n",
    "```bash\n",
    "kaggle datasets download -d mlg-ulb/creditcardfraud\n",
    "```"
   ]
  },
  {
   "cell_type": "code",
   "execution_count": 2,
   "metadata": {
    "execution": {
     "iopub.execute_input": "2025-10-14T11:05:53.018759Z",
     "iopub.status.busy": "2025-10-14T11:05:53.018524Z",
     "iopub.status.idle": "2025-10-14T11:05:54.360430Z",
     "shell.execute_reply": "2025-10-14T11:05:54.359773Z"
    }
   },
   "outputs": [
    {
     "name": "stdout",
     "output_type": "stream",
     "text": [
      "Данные загружены успешно. Размер: (284807, 31)\n"
     ]
    }
   ],
   "source": [
    "# Загрузка данных\n",
    "try:\n",
    "    df = pd.read_csv('../data/creditcard.csv')\n",
    "    print(f\"Данные загружены успешно. Размер: {df.shape}\")\n",
    "except FileNotFoundError:\n",
    "    print(\"Файл creditcard.csv не найден в папке data/\")\n",
    "    print(\"Скачайте датасет с Kaggle: kaggle datasets download -d mlg-ulb/creditcardfraud\")\n",
    "    raise"
   ]
  },
  {
   "cell_type": "code",
   "execution_count": 3,
   "metadata": {
    "execution": {
     "iopub.execute_input": "2025-10-14T11:05:54.395437Z",
     "iopub.status.busy": "2025-10-14T11:05:54.395193Z",
     "iopub.status.idle": "2025-10-14T11:05:54.696263Z",
     "shell.execute_reply": "2025-10-14T11:05:54.695645Z"
    }
   },
   "outputs": [
    {
     "name": "stdout",
     "output_type": "stream",
     "text": [
      "Первые 5 строк:\n",
      "   Time        V1        V2        V3        V4        V5        V6        V7  \\\n",
      "0   0.0 -1.359807 -0.072781  2.536347  1.378155 -0.338321  0.462388  0.239599   \n",
      "1   0.0  1.191857  0.266151  0.166480  0.448154  0.060018 -0.082361 -0.078803   \n",
      "2   1.0 -1.358354 -1.340163  1.773209  0.379780 -0.503198  1.800499  0.791461   \n",
      "3   1.0 -0.966272 -0.185226  1.792993 -0.863291 -0.010309  1.247203  0.237609   \n",
      "4   2.0 -1.158233  0.877737  1.548718  0.403034 -0.407193  0.095921  0.592941   \n",
      "\n",
      "         V8        V9  ...       V21       V22       V23       V24       V25  \\\n",
      "0  0.098698  0.363787  ... -0.018307  0.277838 -0.110474  0.066928  0.128539   \n",
      "1  0.085102 -0.255425  ... -0.225775 -0.638672  0.101288 -0.339846  0.167170   \n",
      "2  0.247676 -1.514654  ...  0.247998  0.771679  0.909412 -0.689281 -0.327642   \n",
      "3  0.377436 -1.387024  ... -0.108300  0.005274 -0.190321 -1.175575  0.647376   \n",
      "4 -0.270533  0.817739  ... -0.009431  0.798278 -0.137458  0.141267 -0.206010   \n",
      "\n",
      "        V26       V27       V28  Amount  Class  \n",
      "0 -0.189115  0.133558 -0.021053  149.62      0  \n",
      "1  0.125895 -0.008983  0.014724    2.69      0  \n",
      "2 -0.139097 -0.055353 -0.059752  378.66      0  \n",
      "3 -0.221929  0.062723  0.061458  123.50      0  \n",
      "4  0.502292  0.219422  0.215153   69.99      0  \n",
      "\n",
      "[5 rows x 31 columns]\n",
      "\n",
      "Информация о данных:\n",
      "<class 'pandas.core.frame.DataFrame'>\n",
      "RangeIndex: 284807 entries, 0 to 284806\n",
      "Data columns (total 31 columns):\n",
      " #   Column  Non-Null Count   Dtype  \n",
      "---  ------  --------------   -----  \n",
      " 0   Time    284807 non-null  float64\n",
      " 1   V1      284807 non-null  float64\n",
      " 2   V2      284807 non-null  float64\n",
      " 3   V3      284807 non-null  float64\n",
      " 4   V4      284807 non-null  float64\n",
      " 5   V5      284807 non-null  float64\n",
      " 6   V6      284807 non-null  float64\n",
      " 7   V7      284807 non-null  float64\n",
      " 8   V8      284807 non-null  float64\n",
      " 9   V9      284807 non-null  float64\n",
      " 10  V10     284807 non-null  float64\n",
      " 11  V11     284807 non-null  float64\n",
      " 12  V12     284807 non-null  float64\n",
      " 13  V13     284807 non-null  float64\n",
      " 14  V14     284807 non-null  float64\n",
      " 15  V15     284807 non-null  float64\n",
      " 16  V16     284807 non-null  float64\n",
      " 17  V17     284807 non-null  float64\n",
      " 18  V18     284807 non-null  float64\n",
      " 19  V19     284807 non-null  float64\n",
      " 20  V20     284807 non-null  float64\n",
      " 21  V21     284807 non-null  float64\n",
      " 22  V22     284807 non-null  float64\n",
      " 23  V23     284807 non-null  float64\n",
      " 24  V24     284807 non-null  float64\n",
      " 25  V25     284807 non-null  float64\n",
      " 26  V26     284807 non-null  float64\n",
      " 27  V27     284807 non-null  float64\n",
      " 28  V28     284807 non-null  float64\n",
      " 29  Amount  284807 non-null  float64\n",
      " 30  Class   284807 non-null  int64  \n",
      "dtypes: float64(30), int64(1)\n",
      "memory usage: 67.4 MB\n",
      "None\n",
      "\n",
      "Статистика:\n"
     ]
    },
    {
     "name": "stdout",
     "output_type": "stream",
     "text": [
      "                Time            V1            V2            V3            V4  \\\n",
      "count  284807.000000  2.848070e+05  2.848070e+05  2.848070e+05  2.848070e+05   \n",
      "mean    94813.859575  1.175161e-15  3.384974e-16 -1.379537e-15  2.094852e-15   \n",
      "std     47488.145955  1.958696e+00  1.651309e+00  1.516255e+00  1.415869e+00   \n",
      "min         0.000000 -5.640751e+01 -7.271573e+01 -4.832559e+01 -5.683171e+00   \n",
      "25%     54201.500000 -9.203734e-01 -5.985499e-01 -8.903648e-01 -8.486401e-01   \n",
      "50%     84692.000000  1.810880e-02  6.548556e-02  1.798463e-01 -1.984653e-02   \n",
      "75%    139320.500000  1.315642e+00  8.037239e-01  1.027196e+00  7.433413e-01   \n",
      "max    172792.000000  2.454930e+00  2.205773e+01  9.382558e+00  1.687534e+01   \n",
      "\n",
      "                 V5            V6            V7            V8            V9  \\\n",
      "count  2.848070e+05  2.848070e+05  2.848070e+05  2.848070e+05  2.848070e+05   \n",
      "mean   1.021879e-15  1.494498e-15 -5.620335e-16  1.149614e-16 -2.414189e-15   \n",
      "std    1.380247e+00  1.332271e+00  1.237094e+00  1.194353e+00  1.098632e+00   \n",
      "min   -1.137433e+02 -2.616051e+01 -4.355724e+01 -7.321672e+01 -1.343407e+01   \n",
      "25%   -6.915971e-01 -7.682956e-01 -5.540759e-01 -2.086297e-01 -6.430976e-01   \n",
      "50%   -5.433583e-02 -2.741871e-01  4.010308e-02  2.235804e-02 -5.142873e-02   \n",
      "75%    6.119264e-01  3.985649e-01  5.704361e-01  3.273459e-01  5.971390e-01   \n",
      "max    3.480167e+01  7.330163e+01  1.205895e+02  2.000721e+01  1.559499e+01   \n",
      "\n",
      "       ...           V21           V22           V23           V24  \\\n",
      "count  ...  2.848070e+05  2.848070e+05  2.848070e+05  2.848070e+05   \n",
      "mean   ...  1.628620e-16 -3.576577e-16  2.618565e-16  4.473914e-15   \n",
      "std    ...  7.345240e-01  7.257016e-01  6.244603e-01  6.056471e-01   \n",
      "min    ... -3.483038e+01 -1.093314e+01 -4.480774e+01 -2.836627e+00   \n",
      "25%    ... -2.283949e-01 -5.423504e-01 -1.618463e-01 -3.545861e-01   \n",
      "50%    ... -2.945017e-02  6.781943e-03 -1.119293e-02  4.097606e-02   \n",
      "75%    ...  1.863772e-01  5.285536e-01  1.476421e-01  4.395266e-01   \n",
      "max    ...  2.720284e+01  1.050309e+01  2.252841e+01  4.584549e+00   \n",
      "\n",
      "                V25           V26           V27           V28         Amount  \\\n",
      "count  2.848070e+05  2.848070e+05  2.848070e+05  2.848070e+05  284807.000000   \n",
      "mean   5.109395e-16  1.686100e-15 -3.661401e-16 -1.227452e-16      88.349619   \n",
      "std    5.212781e-01  4.822270e-01  4.036325e-01  3.300833e-01     250.120109   \n",
      "min   -1.029540e+01 -2.604551e+00 -2.256568e+01 -1.543008e+01       0.000000   \n",
      "25%   -3.171451e-01 -3.269839e-01 -7.083953e-02 -5.295979e-02       5.600000   \n",
      "50%    1.659350e-02 -5.213911e-02  1.342146e-03  1.124383e-02      22.000000   \n",
      "75%    3.507156e-01  2.409522e-01  9.104512e-02  7.827995e-02      77.165000   \n",
      "max    7.519589e+00  3.517346e+00  3.161220e+01  3.384781e+01   25691.160000   \n",
      "\n",
      "               Class  \n",
      "count  284807.000000  \n",
      "mean        0.001727  \n",
      "std         0.041527  \n",
      "min         0.000000  \n",
      "25%         0.000000  \n",
      "50%         0.000000  \n",
      "75%         0.000000  \n",
      "max         1.000000  \n",
      "\n",
      "[8 rows x 31 columns]\n"
     ]
    }
   ],
   "source": [
    "# Исследование данных\n",
    "print(\"Первые 5 строк:\")\n",
    "print(df.head())\n",
    "print(\"\\nИнформация о данных:\")\n",
    "print(df.info())\n",
    "print(\"\\nСтатистика:\")\n",
    "print(df.describe())"
   ]
  },
  {
   "cell_type": "code",
   "execution_count": 4,
   "metadata": {
    "execution": {
     "iopub.execute_input": "2025-10-14T11:05:54.698417Z",
     "iopub.status.busy": "2025-10-14T11:05:54.698230Z",
     "iopub.status.idle": "2025-10-14T11:05:55.076674Z",
     "shell.execute_reply": "2025-10-14T11:05:55.076118Z"
    }
   },
   "outputs": [
    {
     "name": "stdout",
     "output_type": "stream",
     "text": [
      "Распределение классов:\n",
      "Class\n",
      "0    284315\n",
      "1       492\n",
      "Name: count, dtype: int64\n",
      "\n",
      "Доля мошеннических транзакций: 0.0017\n"
     ]
    },
    {
     "data": {
      "image/png": "[encoded data removed]",
      "text/plain": [
       "<Figure size 1200x400 with 2 Axes>"
      ]
     },
     "metadata": {},
     "output_type": "display_data"
    }
   ],
   "source": [
    "# Анализ целевой переменной\n",
    "print(\"Распределение классов:\")\n",
    "print(df['Class'].value_counts())\n",
    "print(f\"\\nДоля мошеннических транзакций: {df['Class'].mean():.4f}\")\n",
    "\n",
    "# Визуализация\n",
    "plt.figure(figsize=(12, 4))\n",
    "\n",
    "plt.subplot(1, 2, 1)\n",
    "df['Class'].value_counts().plot(kind='bar')\n",
    "plt.title('Распределение классов')\n",
    "plt.xlabel('Класс (0 - норма, 1 - мошенничество)')\n",
    "plt.ylabel('Количество')\n",
    "\n",
    "plt.subplot(1, 2, 2)\n",
    "plt.hist(df[df['Class'] == 0]['Amount'], bins=50, alpha=0.7, label='Норма')\n",
    "plt.hist(df[df['Class'] == 1]['Amount'], bins=50, alpha=0.7, label='Мошенничество')\n",
    "plt.xlabel('Сумма транзакции')\n",
    "plt.ylabel('Частота')\n",
    "plt.legend()\n",
    "plt.title('Распределение сумм транзакций')\n",
    "\n",
    "plt.tight_layout()\n",
    "plt.show()"
   ]
  },
  {
   "cell_type": "markdown",
   "metadata": {},
   "source": [
    "## 2. Предобработка данных"
   ]
  },
  {
   "cell_type": "code",
   "execution_count": 5,
   "metadata": {
    "execution": {
     "iopub.execute_input": "2025-10-14T11:05:55.078488Z",
     "iopub.status.busy": "2025-10-14T11:05:55.078320Z",
     "iopub.status.idle": "2025-10-14T11:05:55.103710Z",
     "shell.execute_reply": "2025-10-14T11:05:55.103224Z"
    }
   },
   "outputs": [
    {
     "name": "stdout",
     "output_type": "stream",
     "text": [
      "Пропущенные значения:\n",
      "0\n",
      "\n",
      "Размер признаков: (284807, 30)\n",
      "Размер целевой переменной: (284807,)\n"
     ]
    }
   ],
   "source": [
    "# Проверка на пропущенные значения\n",
    "print(\"Пропущенные значения:\")\n",
    "print(df.isnull().sum().sum())\n",
    "\n",
    "# Подготовка признаков и целевой переменной\n",
    "X = df.drop(['Class'], axis=1)\n",
    "y = df['Class']\n",
    "\n",
    "print(f\"\\nРазмер признаков: {X.shape}\")\n",
    "print(f\"Размер целевой переменной: {y.shape}\")"
   ]
  },
  {
   "cell_type": "code",
   "execution_count": 6,
   "metadata": {
    "execution": {
     "iopub.execute_input": "2025-10-14T11:05:55.105479Z",
     "iopub.status.busy": "2025-10-14T11:05:55.105262Z",
     "iopub.status.idle": "2025-10-14T11:05:55.234321Z",
     "shell.execute_reply": "2025-10-14T11:05:55.233675Z"
    }
   },
   "outputs": [
    {
     "name": "stdout",
     "output_type": "stream",
     "text": [
      "Размер обучающей выборки: (227845, 30)\n",
      "Размер тестовой выборки: (56962, 30)\n",
      "Доля мошенничества в train: 0.0017\n",
      "Доля мошенничества в test: 0.0017\n"
     ]
    }
   ],
   "source": [
    "# Разделение на train/test\n",
    "X_train, X_test, y_train, y_test = train_test_split(\n",
    "    X, y, test_size=0.2, random_state=42, stratify=y\n",
    ")\n",
    "\n",
    "print(f\"Размер обучающей выборки: {X_train.shape}\")\n",
    "print(f\"Размер тестовой выборки: {X_test.shape}\")\n",
    "print(f\"Доля мошенничества в train: {y_train.mean():.4f}\")\n",
    "print(f\"Доля мошенничества в test: {y_test.mean():.4f}\")"
   ]
  },
  {
   "cell_type": "code",
   "execution_count": 7,
   "metadata": {
    "execution": {
     "iopub.execute_input": "2025-10-14T11:05:55.236105Z",
     "iopub.status.busy": "2025-10-14T11:05:55.235923Z",
     "iopub.status.idle": "2025-10-14T11:05:55.342788Z",
     "shell.execute_reply": "2025-10-14T11:05:55.342286Z"
    }
   },
   "outputs": [
    {
     "name": "stdout",
     "output_type": "stream",
     "text": [
      "Нормализация завершена\n",
      "Среднее значение после нормализации: -0.000000\n",
      "Стандартное отклонение после нормализации: 1.000000\n"
     ]
    }
   ],
   "source": [
    "# Нормализация признаков\n",
    "scaler = StandardScaler()\n",
    "X_train_scaled = scaler.fit_transform(X_train)\n",
    "X_test_scaled = scaler.transform(X_test)\n",
    "\n",
    "print(\"Нормализация завершена\")\n",
    "print(f\"Среднее значение после нормализации: {X_train_scaled.mean():.6f}\")\n",
    "print(f\"Стандартное отклонение после нормализации: {X_train_scaled.std():.6f}\")"
   ]
  },
  {
   "cell_type": "markdown",
   "metadata": {},
   "source": [
    "## 3. Обучение моделей"
   ]
  },
  {
   "cell_type": "code",
   "execution_count": 8,
   "metadata": {
    "execution": {
     "iopub.execute_input": "2025-10-14T11:05:55.344988Z",
     "iopub.status.busy": "2025-10-14T11:05:55.344758Z",
     "iopub.status.idle": "2025-10-14T11:05:57.786249Z",
     "shell.execute_reply": "2025-10-14T11:05:57.785538Z"
    }
   },
   "outputs": [
    {
     "name": "stdout",
     "output_type": "stream",
     "text": [
      "Обучение LightGBM...\n"
     ]
    },
    {
     "name": "stdout",
     "output_type": "stream",
     "text": [
      "[LightGBM] [Warning] feature_fraction is set=0.9, colsample_bytree=1.0 will be ignored. Current value: feature_fraction=0.9\n",
      "[LightGBM] [Warning] bagging_fraction is set=0.8, subsample=1.0 will be ignored. Current value: bagging_fraction=0.8\n",
      "[LightGBM] [Warning] bagging_freq is set=5, subsample_freq=0 will be ignored. Current value: bagging_freq=5\n"
     ]
    },
    {
     "name": "stdout",
     "output_type": "stream",
     "text": [
      "[LightGBM] [Warning] feature_fraction is set=0.9, colsample_bytree=1.0 will be ignored. Current value: feature_fraction=0.9\n",
      "[LightGBM] [Warning] bagging_fraction is set=0.8, subsample=1.0 will be ignored. Current value: bagging_fraction=0.8\n",
      "[LightGBM] [Warning] bagging_freq is set=5, subsample_freq=0 will be ignored. Current value: bagging_freq=5\n"
     ]
    },
    {
     "name": "stdout",
     "output_type": "stream",
     "text": [
      "LightGBM обучена\n"
     ]
    }
   ],
   "source": [
    "# Обучение LightGBM\n",
    "print(\"Обучение LightGBM...\")\n",
    "\n",
    "lgb_model = lgb.LGBMClassifier(\n",
    "    objective='binary',\n",
    "    metric='auc',\n",
    "    boosting_type='gbdt',\n",
    "    num_leaves=31,\n",
    "    learning_rate=0.05,\n",
    "    feature_fraction=0.9,\n",
    "    bagging_fraction=0.8,\n",
    "    bagging_freq=5,\n",
    "    verbose=0,\n",
    "    random_state=42,\n",
    "    class_weight='balanced'\n",
    ")\n",
    "\n",
    "lgb_model.fit(X_train_scaled, y_train)\n",
    "print(\"LightGBM обучена\")"
   ]
  },
  {
   "cell_type": "code",
   "execution_count": 9,
   "metadata": {
    "execution": {
     "iopub.execute_input": "2025-10-14T11:05:57.788331Z",
     "iopub.status.busy": "2025-10-14T11:05:57.788109Z",
     "iopub.status.idle": "2025-10-14T11:05:58.338360Z",
     "shell.execute_reply": "2025-10-14T11:05:58.337753Z"
    }
   },
   "outputs": [
    {
     "name": "stdout",
     "output_type": "stream",
     "text": [
      "Обучение Logistic Regression...\n"
     ]
    },
    {
     "name": "stdout",
     "output_type": "stream",
     "text": [
      "Logistic Regression обучена\n"
     ]
    }
   ],
   "source": [
    "# Обучение Logistic Regression для сравнения\n",
    "print(\"Обучение Logistic Regression...\")\n",
    "\n",
    "lr_model = LogisticRegression(\n",
    "    random_state=42,\n",
    "    class_weight='balanced',\n",
    "    max_iter=1000\n",
    ")\n",
    "\n",
    "lr_model.fit(X_train_scaled, y_train)\n",
    "print(\"Logistic Regression обучена\")"
   ]
  },
  {
   "cell_type": "markdown",
   "metadata": {},
   "source": [
    "## 4. Оценка моделей"
   ]
  },
  {
   "cell_type": "code",
   "execution_count": 10,
   "metadata": {
    "execution": {
     "iopub.execute_input": "2025-10-14T11:05:58.340244Z",
     "iopub.status.busy": "2025-10-14T11:05:58.340057Z",
     "iopub.status.idle": "2025-10-14T11:05:58.506762Z",
     "shell.execute_reply": "2025-10-14T11:05:58.506147Z"
    }
   },
   "outputs": [
    {
     "name": "stdout",
     "output_type": "stream",
     "text": [
      "[LightGBM] [Warning] feature_fraction is set=0.9, colsample_bytree=1.0 will be ignored. Current value: feature_fraction=0.9\n",
      "[LightGBM] [Warning] bagging_fraction is set=0.8, subsample=1.0 will be ignored. Current value: bagging_fraction=0.8\n",
      "[LightGBM] [Warning] bagging_freq is set=5, subsample_freq=0 will be ignored. Current value: bagging_freq=5\n",
      "[LightGBM] [Warning] feature_fraction is set=0.9, colsample_bytree=1.0 will be ignored. Current value: feature_fraction=0.9\n",
      "[LightGBM] [Warning] bagging_fraction is set=0.8, subsample=1.0 will be ignored. Current value: bagging_fraction=0.8\n",
      "[LightGBM] [Warning] bagging_freq is set=5, subsample_freq=0 will be ignored. Current value: bagging_freq=5\n",
      "=== LightGBM ===\n",
      "ROC-AUC: 0.9714\n",
      "\n",
      "Classification Report:\n",
      "              precision    recall  f1-score   support\n",
      "\n",
      "           0       1.00      1.00      1.00     56864\n",
      "           1       0.51      0.89      0.65        98\n",
      "\n",
      "    accuracy                           1.00     56962\n",
      "   macro avg       0.76      0.94      0.82     56962\n",
      "weighted avg       1.00      1.00      1.00     56962\n",
      "\n",
      "\n",
      "=== Logistic Regression ===\n",
      "ROC-AUC: 0.9721\n",
      "\n",
      "Classification Report:\n",
      "              precision    recall  f1-score   support\n",
      "\n",
      "           0       1.00      0.98      0.99     56864\n",
      "           1       0.06      0.92      0.11        98\n",
      "\n",
      "    accuracy                           0.98     56962\n",
      "   macro avg       0.53      0.95      0.55     56962\n",
      "weighted avg       1.00      0.98      0.99     56962\n",
      "\n"
     ]
    }
   ],
   "source": [
    "# Предсказания\n",
    "lgb_pred = lgb_model.predict(X_test_scaled)\n",
    "lgb_pred_proba = lgb_model.predict_proba(X_test_scaled)[:, 1]\n",
    "\n",
    "lr_pred = lr_model.predict(X_test_scaled)\n",
    "lr_pred_proba = lr_model.predict_proba(X_test_scaled)[:, 1]\n",
    "\n",
    "# Оценка качества\n",
    "print(\"=== LightGBM ===\")\n",
    "print(f\"ROC-AUC: {roc_auc_score(y_test, lgb_pred_proba):.4f}\")\n",
    "print(\"\\nClassification Report:\")\n",
    "print(classification_report(y_test, lgb_pred))\n",
    "\n",
    "print(\"\\n=== Logistic Regression ===\")\n",
    "print(f\"ROC-AUC: {roc_auc_score(y_test, lr_pred_proba):.4f}\")\n",
    "print(\"\\nClassification Report:\")\n",
    "print(classification_report(y_test, lr_pred))"
   ]
  },
  {
   "cell_type": "code",
   "execution_count": 11,
   "metadata": {
    "execution": {
     "iopub.execute_input": "2025-10-14T11:05:58.508758Z",
     "iopub.status.busy": "2025-10-14T11:05:58.508492Z",
     "iopub.status.idle": "2025-10-14T11:05:58.877222Z",
     "shell.execute_reply": "2025-10-14T11:05:58.876603Z"
    }
   },
   "outputs": [
    {
     "data": {
      "image/png": "[encoded data removed]",
      "text/plain": [
       "<Figure size 1500x500 with 4 Axes>"
      ]
     },
     "metadata": {},
     "output_type": "display_data"
    }
   ],
   "source": [
    "# Визуализация результатов\n",
    "plt.figure(figsize=(15, 5))\n",
    "\n",
    "# ROC кривые\n",
    "plt.subplot(1, 3, 1)\n",
    "fpr_lgb, tpr_lgb, _ = roc_curve(y_test, lgb_pred_proba)\n",
    "fpr_lr, tpr_lr, _ = roc_curve(y_test, lr_pred_proba)\n",
    "\n",
    "plt.plot(fpr_lgb, tpr_lgb, label=f'LightGBM (AUC = {roc_auc_score(y_test, lgb_pred_proba):.3f})')\n",
    "plt.plot(fpr_lr, tpr_lr, label=f'LogReg (AUC = {roc_auc_score(y_test, lr_pred_proba):.3f})')\n",
    "plt.plot([0, 1], [0, 1], 'k--', label='Random')\n",
    "plt.xlabel('False Positive Rate')\n",
    "plt.ylabel('True Positive Rate')\n",
    "plt.title('ROC Curves')\n",
    "plt.legend()\n",
    "\n",
    "# Confusion Matrix для LightGBM\n",
    "plt.subplot(1, 3, 2)\n",
    "cm_lgb = confusion_matrix(y_test, lgb_pred)\n",
    "sns.heatmap(cm_lgb, annot=True, fmt='d', cmap='Blues')\n",
    "plt.title('Confusion Matrix (LightGBM)')\n",
    "plt.ylabel('True Label')\n",
    "plt.xlabel('Predicted Label')\n",
    "\n",
    "# Feature importance для LightGBM\n",
    "plt.subplot(1, 3, 3)\n",
    "feature_importance = lgb_model.feature_importances_\n",
    "feature_names = X.columns\n",
    "indices = np.argsort(feature_importance)[::-1][:10]\n",
    "\n",
    "plt.bar(range(10), feature_importance[indices])\n",
    "plt.xticks(range(10), [feature_names[i] for i in indices], rotation=45)\n",
    "plt.title('Top 10 Feature Importance (LightGBM)')\n",
    "plt.ylabel('Importance')\n",
    "\n",
    "plt.tight_layout()\n",
    "plt.show()"
   ]
  },
  {
   "cell_type": "markdown",
   "metadata": {},
   "source": [
    "## 5. Выбор лучшей модели и сохранение"
   ]
  },
  {
   "cell_type": "code",
   "execution_count": 12,
   "metadata": {
    "execution": {
     "iopub.execute_input": "2025-10-14T11:05:58.879794Z",
     "iopub.status.busy": "2025-10-14T11:05:58.879516Z",
     "iopub.status.idle": "2025-10-14T11:05:58.905779Z",
     "shell.execute_reply": "2025-10-14T11:05:58.905217Z"
    }
   },
   "outputs": [
    {
     "name": "stdout",
     "output_type": "stream",
     "text": [
      "LightGBM ROC-AUC: 0.9714\n",
      "Logistic Regression ROC-AUC: 0.9721\n",
      "\n",
      "Лучшая модель: Logistic Regression с ROC-AUC = 0.9721\n"
     ]
    }
   ],
   "source": [
    "# Сравнение моделей по ROC-AUC\n",
    "lgb_auc = roc_auc_score(y_test, lgb_pred_proba)\n",
    "lr_auc = roc_auc_score(y_test, lr_pred_proba)\n",
    "\n",
    "print(f\"LightGBM ROC-AUC: {lgb_auc:.4f}\")\n",
    "print(f\"Logistic Regression ROC-AUC: {lr_auc:.4f}\")\n",
    "\n",
    "# Выбираем лучшую модель\n",
    "if lgb_auc >= lr_auc:\n",
    "    best_model = lgb_model\n",
    "    best_model_name = \"LightGBM\"\n",
    "    best_auc = lgb_auc\n",
    "else:\n",
    "    best_model = lr_model\n",
    "    best_model_name = \"Logistic Regression\"\n",
    "    best_auc = lr_auc\n",
    "\n",
    "print(f\"\\nЛучшая модель: {best_model_name} с ROC-AUC = {best_auc:.4f}\")"
   ]
  },
  {
   "cell_type": "code",
   "execution_count": 13,
   "metadata": {
    "execution": {
     "iopub.execute_input": "2025-10-14T11:05:58.908278Z",
     "iopub.status.busy": "2025-10-14T11:05:58.908054Z",
     "iopub.status.idle": "2025-10-14T11:05:58.915211Z",
     "shell.execute_reply": "2025-10-14T11:05:58.914723Z"
    }
   },
   "outputs": [
    {
     "name": "stdout",
     "output_type": "stream",
     "text": [
      "Модель Logistic Regression сохранена в ../model/model.pkl\n",
      "Скейлер сохранен в ../model/scaler.pkl\n",
      "Метрики сохранены в ../model/metrics.pkl\n"
     ]
    }
   ],
   "source": [
    "# Сохранение модели и скейлера\n",
    "import os\n",
    "\n",
    "model_dir = '../model'\n",
    "os.makedirs(model_dir, exist_ok=True)\n",
    "\n",
    "# Сохраняем модель\n",
    "joblib.dump(best_model, os.path.join(model_dir, 'model.pkl'))\n",
    "print(f\"Модель {best_model_name} сохранена в {model_dir}/model.pkl\")\n",
    "\n",
    "# Сохраняем скейлер\n",
    "joblib.dump(scaler, os.path.join(model_dir, 'scaler.pkl'))\n",
    "print(f\"Скейлер сохранен в {model_dir}/scaler.pkl\")\n",
    "\n",
    "# Сохраняем метрики\n",
    "metrics = {\n",
    "    'model_name': best_model_name,\n",
    "    'roc_auc': best_auc,\n",
    "    'feature_names': list(X.columns)\n",
    "}\n",
    "\n",
    "joblib.dump(metrics, os.path.join(model_dir, 'metrics.pkl'))\n",
    "print(f\"Метрики сохранены в {model_dir}/metrics.pkl\")"
   ]
  },
  {
   "cell_type": "markdown",
   "metadata": {},
   "source": [
    "## 6. Тестирование сохраненной модели"
   ]
  },
  {
   "cell_type": "code",
   "execution_count": 14,
   "metadata": {
    "execution": {
     "iopub.execute_input": "2025-10-14T11:05:58.917525Z",
     "iopub.status.busy": "2025-10-14T11:05:58.917193Z",
     "iopub.status.idle": "2025-10-14T11:05:58.944140Z",
     "shell.execute_reply": "2025-10-14T11:05:58.943457Z"
    }
   },
   "outputs": [
    {
     "name": "stdout",
     "output_type": "stream",
     "text": [
      "Модель успешно загружена\n",
      "Модель: Logistic Regression\n",
      "ROC-AUC: 0.9721\n",
      "\n",
      "Тест на примере транзакции:\n",
      "Вероятность мошенничества: 0.0057\n",
      "Классификация: Норма\n",
      "Реальный класс: Норма\n"
     ]
    }
   ],
   "source": [
    "# Загрузка сохраненной модели для проверки\n",
    "loaded_model = joblib.load('../model/model.pkl')\n",
    "loaded_scaler = joblib.load('../model/scaler.pkl')\n",
    "loaded_metrics = joblib.load('../model/metrics.pkl')\n",
    "\n",
    "print(\"Модель успешно загружена\")\n",
    "print(f\"Модель: {loaded_metrics['model_name']}\")\n",
    "print(f\"ROC-AUC: {loaded_metrics['roc_auc']:.4f}\")\n",
    "\n",
    "# Тестируем на одной транзакции\n",
    "sample_transaction = X_test.iloc[0:1]\n",
    "sample_scaled = loaded_scaler.transform(sample_transaction)\n",
    "prediction = loaded_model.predict_proba(sample_scaled)[0, 1]\n",
    "\n",
    "print(f\"\\nТест на примере транзакции:\")\n",
    "print(f\"Вероятность мошенничества: {prediction:.4f}\")\n",
    "print(f\"Классификация: {'Мошенничество' if prediction > 0.5 else 'Норма'}\")\n",
    "print(f\"Реальный класс: {'Мошенничество' if y_test.iloc[0] == 1 else 'Норма'}\")"
   ]
  },
  {
   "cell_type": "markdown",
   "metadata": {},
   "source": [
    "## Заключение\n",
    "\n",
    "Модель обучена и сохранена. Теперь можно использовать её в API для предсказания мошенничества в реальном времени.\n",
    "\n",
    "Файлы сохранены:\n",
    "- `model/model.pkl` - обученная модель\n",
    "- `model/scaler.pkl` - скейлер для нормализации\n",
    "- `model/metrics.pkl` - метрики модели"
   ]
  }
 ],
 "metadata": {
  "kernelspec": {
   "display_name": "Python 3",
   "language": "python",
   "name": "python3"
  },
  "language_info": {
   "codemirror_mode": {
    "name": "ipython",
    "version": 3
   },
   "file_extension": ".py",
   "mimetype": "text/x-python",
   "name": "python",
   "nbconvert_exporter": "python",
   "pygments_lexer": "ipython3",
   "version": "3.13.1"
  }
 },
 "nbformat": 4,
 "nbformat_minor": 4
}
